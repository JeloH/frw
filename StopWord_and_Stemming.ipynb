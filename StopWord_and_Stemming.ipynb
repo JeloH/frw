{
  "nbformat": 4,
  "nbformat_minor": 0,
  "metadata": {
    "colab": {
      "name": "Untitled21.ipynb",
      "provenance": [],
      "authorship_tag": "ABX9TyMVR5fgXkc4XnkAgB6Y+ElF",
      "include_colab_link": true
    },
    "kernelspec": {
      "name": "python3",
      "display_name": "Python 3"
    },
    "language_info": {
      "name": "python"
    }
  },
  "cells": [
    {
      "cell_type": "markdown",
      "metadata": {
        "id": "view-in-github",
        "colab_type": "text"
      },
      "source": [
        "<a href=\"https://colab.research.google.com/github/JeloH/frw/blob/master/StopWord_and_Stemming.ipynb\" target=\"_parent\"><img src=\"https://colab.research.google.com/assets/colab-badge.svg\" alt=\"Open In Colab\"/></a>"
      ]
    },
    {
      "cell_type": "code",
      "metadata": {
        "id": "_lDfledZzer5"
      },
      "source": [
        "import pandas as pd\n",
        "import re\n",
        "import nltk\n",
        "from nltk.corpus import stopwords\n",
        "from nltk.stem.porter import PorterStemmer\n",
        "from sklearn.feature_extraction.text import CountVectorizer\n",
        "from sklearn.svm import SVC\n",
        "from sklearn.metrics import confusion_matrix\n",
        "import sys"
      ],
      "execution_count": 24,
      "outputs": []
    },
    {
      "cell_type": "code",
      "metadata": {
        "colab": {
          "base_uri": "https://localhost:8080/"
        },
        "id": "yEnFz9Ad4NZ7",
        "outputId": "8d8b0a4e-656f-4479-f411-59b806f53a2f"
      },
      "source": [
        "nltk.download('stopwords') #downloading the stopwords from nltk"
      ],
      "execution_count": 25,
      "outputs": [
        {
          "output_type": "stream",
          "text": [
            "[nltk_data] Downloading package stopwords to /root/nltk_data...\n",
            "[nltk_data]   Package stopwords is already up-to-date!\n"
          ],
          "name": "stdout"
        },
        {
          "output_type": "execute_result",
          "data": {
            "text/plain": [
              "True"
            ]
          },
          "metadata": {
            "tags": []
          },
          "execution_count": 25
        }
      ]
    },
    {
      "cell_type": "code",
      "metadata": {
        "colab": {
          "base_uri": "https://localhost:8080/"
        },
        "id": "NbBCXPKJzf1j",
        "outputId": "03b21281-fc44-42bf-ee4a-3a21a3ce77db"
      },
      "source": [
        "dataset = pd.read_csv('Confinement_Tweets_000001_3.csv','iso-8859-1')"
      ],
      "execution_count": 26,
      "outputs": [
        {
          "output_type": "stream",
          "text": [
            "/usr/local/lib/python3.7/dist-packages/ipykernel_launcher.py:1: ParserWarning: Falling back to the 'python' engine because the 'c' engine does not support regex separators (separators > 1 char and different from '\\s+' are interpreted as regex); you can avoid this warning by specifying engine='python'.\n",
            "  \"\"\"Entry point for launching an IPython kernel.\n"
          ],
          "name": "stderr"
        }
      ]
    },
    {
      "cell_type": "code",
      "metadata": {
        "colab": {
          "base_uri": "https://localhost:8080/",
          "height": 1000
        },
        "id": "Owb49UOjzlXa",
        "outputId": "4841f9dd-d10d-460b-b03d-bcf83ca2a869"
      },
      "source": [
        "dataset"
      ],
      "execution_count": 27,
      "outputs": [
        {
          "output_type": "execute_result",
          "data": {
            "text/html": [
              "<div>\n",
              "<style scoped>\n",
              "    .dataframe tbody tr th:only-of-type {\n",
              "        vertical-align: middle;\n",
              "    }\n",
              "\n",
              "    .dataframe tbody tr th {\n",
              "        vertical-align: top;\n",
              "    }\n",
              "\n",
              "    .dataframe thead th {\n",
              "        text-align: right;\n",
              "    }\n",
              "</style>\n",
              "<table border=\"1\" class=\"dataframe\">\n",
              "  <thead>\n",
              "    <tr style=\"text-align: right;\">\n",
              "      <th></th>\n",
              "      <th>Tweet</th>\n",
              "    </tr>\n",
              "  </thead>\n",
              "  <tbody>\n",
              "    <tr>\n",
              "      <th>0</th>\n",
              "      <td>Watch Watching Watch</td>\n",
              "    </tr>\n",
              "    <tr>\n",
              "      <th>1</th>\n",
              "      <td>\"Rohit Kansal, Principal Secretary Planning, J...</td>\n",
              "    </tr>\n",
              "    <tr>\n",
              "      <th>2</th>\n",
              "      <td>\"#CORONAVIRUS | Pour lutter contre la propagat...</td>\n",
              "    </tr>\n",
              "    <tr>\n",
              "      <th>3</th>\n",
              "      <td>#COVID19france https://t.co/qIIcX3mK6I\"</td>\n",
              "    </tr>\n",
              "    <tr>\n",
              "      <th>4</th>\n",
              "      <td>\"Coronavirus : ?? quoi sert le confinement ? ?...</td>\n",
              "    </tr>\n",
              "    <tr>\n",
              "      <th>5</th>\n",
              "      <td>Vid??o @creapills - animation @juan_delcan</td>\n",
              "    </tr>\n",
              "    <tr>\n",
              "      <th>6</th>\n",
              "      <td>https://t.co/7glggICaEc\"</td>\n",
              "    </tr>\n",
              "    <tr>\n",
              "      <th>7</th>\n",
              "      <td>\"D'apr??s un rapport alarmiste d'??pid??miolog...</td>\n",
              "    </tr>\n",
              "    <tr>\n",
              "      <th>8</th>\n",
              "      <td>\"Mexican engineers develop isolation chamber t...</td>\n",
              "    </tr>\n",
              "    <tr>\n",
              "      <th>9</th>\n",
              "      <td>#Mexico https://t.co/AJsH5kTPkH\"</td>\n",
              "    </tr>\n",
              "    <tr>\n",
              "      <th>10</th>\n",
              "      <td>\"#COVID19 - March 15</td>\n",
              "    </tr>\n",
              "    <tr>\n",
              "      <th>11</th>\n",
              "      <td>As of 9pm:</td>\n",
              "    </tr>\n",
              "    <tr>\n",
              "      <th>12</th>\n",
              "      <td>- Confirmed cases: 13</td>\n",
              "    </tr>\n",
              "    <tr>\n",
              "      <th>13</th>\n",
              "      <td>- Farukolhu Isolation: 11</td>\n",
              "    </tr>\n",
              "    <tr>\n",
              "      <th>14</th>\n",
              "      <td>- Villivaru quarantine: 18</td>\n",
              "    </tr>\n",
              "    <tr>\n",
              "      <th>15</th>\n",
              "      <td>For more information:</td>\n",
              "    </tr>\n",
              "    <tr>\n",
              "      <th>16</th>\n",
              "      <td>https://t.co/Vi7YWGl7aC https://t.co/Zo5xuWeuGq\"</td>\n",
              "    </tr>\n",
              "    <tr>\n",
              "      <th>17</th>\n",
              "      <td>\"@AlteregoXI @LuckyHeronSay Do the hotels supp...</td>\n",
              "    </tr>\n",
              "    <tr>\n",
              "      <th>18</th>\n",
              "      <td>\"\"\"Stricken with both COVID-19 and double pneu...</td>\n",
              "    </tr>\n",
              "    <tr>\n",
              "      <th>19</th>\n",
              "      <td>\"@USPS @USPSHelp  According to the MIT Technol...</td>\n",
              "    </tr>\n",
              "    <tr>\n",
              "      <th>20</th>\n",
              "      <td>\"Self-isolation will prove challenging to many...</td>\n",
              "    </tr>\n",
              "    <tr>\n",
              "      <th>21</th>\n",
              "      <td>\"????Si tu savais comme c?�?est bon, de pouvoi...</td>\n",
              "    </tr>\n",
              "    <tr>\n",
              "      <th>22</th>\n",
              "      <td>????Comme c?�?est bon???? de @JeniferOfficiel ...</td>\n",
              "    </tr>\n",
              "    <tr>\n",
              "      <th>23</th>\n",
              "      <td>\"To help you all get through the #coronavirus ...</td>\n",
              "    </tr>\n",
              "    <tr>\n",
              "      <th>24</th>\n",
              "      <td>Get your credit cards ready ????</td>\n",
              "    </tr>\n",
              "    <tr>\n",
              "      <th>25</th>\n",
              "      <td>This classy #loafers (no socks! ????) worshipp...</td>\n",
              "    </tr>\n",
              "    <tr>\n",
              "      <th>26</th>\n",
              "      <td>https://t.co/5184GA5UmZ</td>\n",
              "    </tr>\n",
              "    <tr>\n",
              "      <th>27</th>\n",
              "      <td>#findom https://t.co/EBkIahPDVu\"</td>\n",
              "    </tr>\n",
              "    <tr>\n",
              "      <th>28</th>\n",
              "      <td>\"The @WHO has been explaining how #COVID19 spr...</td>\n",
              "    </tr>\n",
              "    <tr>\n",
              "      <th>29</th>\n",
              "      <td>Officials warned us at every single WHO #coron...</td>\n",
              "    </tr>\n",
              "    <tr>\n",
              "      <th>30</th>\n",
              "      <td>Why is the world just now starting to listen?\"</td>\n",
              "    </tr>\n",
              "    <tr>\n",
              "      <th>31</th>\n",
              "      <td>\"Premier cas de #Covid19 ?? Columbia Universit...</td>\n",
              "    </tr>\n",
              "    <tr>\n",
              "      <th>32</th>\n",
              "      <td>Perso, je suis en self-isolation from today in...</td>\n",
              "    </tr>\n",
              "    <tr>\n",
              "      <th>33</th>\n",
              "      <td>\"?�?We are approaching this with maximum trans...</td>\n",
              "    </tr>\n",
              "    <tr>\n",
              "      <th>34</th>\n",
              "      <td>-Matt Hancock</td>\n",
              "    </tr>\n",
              "    <tr>\n",
              "      <th>35</th>\n",
              "      <td>And yet private briefings on closures, gatheri...</td>\n",
              "    </tr>\n",
              "    <tr>\n",
              "      <th>36</th>\n",
              "      <td>#COVID19</td>\n",
              "    </tr>\n",
              "    <tr>\n",
              "      <th>37</th>\n",
              "      <td>#marr https://t.co/MkrzL9rcjc\"</td>\n",
              "    </tr>\n",
              "    <tr>\n",
              "      <th>38</th>\n",
              "      <td>\"Testing testing testing testing find the virus</td>\n",
              "    </tr>\n",
              "    <tr>\n",
              "      <th>39</th>\n",
              "      <td>Easy/Fast:CT scans/CBCs if + go to PCR #COVID1...</td>\n",
              "    </tr>\n",
              "    <tr>\n",
              "      <th>40</th>\n",
              "      <td>No home isolation,80% of transmission inside f...</td>\n",
              "    </tr>\n",
              "    <tr>\n",
              "      <th>41</th>\n",
              "      <td>DANCE</td>\n",
              "    </tr>\n",
              "    <tr>\n",
              "      <th>42</th>\n",
              "      <td>Mild:from no symptoms to pneumonia but doesn't...</td>\n",
              "    </tr>\n",
              "    <tr>\n",
              "      <th>43</th>\n",
              "      <td>Break the chain of transmission Don't get hosp...</td>\n",
              "    </tr>\n",
              "    <tr>\n",
              "      <th>44</th>\n",
              "      <td>COVID19: Local flying in from Spain taken to i...</td>\n",
              "    </tr>\n",
              "    <tr>\n",
              "      <th>45</th>\n",
              "      <td>\"I know,  I know.   How am I still single??  I...</td>\n",
              "    </tr>\n",
              "    <tr>\n",
              "      <th>46</th>\n",
              "      <td>\"Vu les dernieres annonces d?�???douard #Phili...</td>\n",
              "    </tr>\n",
              "    <tr>\n",
              "      <th>47</th>\n",
              "      <td>Allez vous aller voter aux #Municipale2020 ?</td>\n",
              "    </tr>\n",
              "    <tr>\n",
              "      <th>48</th>\n",
              "      <td>VOTE ???? ET RETWEET ????</td>\n",
              "    </tr>\n",
              "    <tr>\n",
              "      <th>49</th>\n",
              "      <td>#COVID???19 #restecheztoi #COVID19 #Espagne #c...</td>\n",
              "    </tr>\n",
              "    <tr>\n",
              "      <th>50</th>\n",
              "      <td>\"Elderly and disabled are going to suffer!!   ...</td>\n",
              "    </tr>\n",
              "    <tr>\n",
              "      <th>51</th>\n",
              "      <td>\"Just received an Email from my local SNP that...</td>\n",
              "    </tr>\n",
              "    <tr>\n",
              "      <th>52</th>\n",
              "      <td>\"???? | President Torra calls Spain?�?s effort...</td>\n",
              "    </tr>\n",
              "    <tr>\n",
              "      <th>53</th>\n",
              "      <td>Catalan chief urges for complete self-isolatio...</td>\n",
              "    </tr>\n",
              "    <tr>\n",
              "      <th>54</th>\n",
              "      <td>https://t.co/MYnccQLQ9G\"</td>\n",
              "    </tr>\n",
              "    <tr>\n",
              "      <th>55</th>\n",
              "      <td>\"Choosing between preserving Corona and Cohen ...</td>\n",
              "    </tr>\n",
              "    <tr>\n",
              "      <th>56</th>\n",
              "      <td>\"Old school friend in China in isolation. Says...</td>\n",
              "    </tr>\n",
              "  </tbody>\n",
              "</table>\n",
              "</div>"
            ],
            "text/plain": [
              "                                                Tweet\n",
              "0                                Watch Watching Watch\n",
              "1   \"Rohit Kansal, Principal Secretary Planning, J...\n",
              "2   \"#CORONAVIRUS | Pour lutter contre la propagat...\n",
              "3             #COVID19france https://t.co/qIIcX3mK6I\"\n",
              "4   \"Coronavirus : ?? quoi sert le confinement ? ?...\n",
              "5          Vid??o @creapills - animation @juan_delcan\n",
              "6                            https://t.co/7glggICaEc\"\n",
              "7   \"D'apr??s un rapport alarmiste d'??pid??miolog...\n",
              "8   \"Mexican engineers develop isolation chamber t...\n",
              "9                    #Mexico https://t.co/AJsH5kTPkH\"\n",
              "10                               \"#COVID19 - March 15\n",
              "11                                         As of 9pm:\n",
              "12                              - Confirmed cases: 13\n",
              "13                          - Farukolhu Isolation: 11\n",
              "14                         - Villivaru quarantine: 18\n",
              "15                              For more information:\n",
              "16   https://t.co/Vi7YWGl7aC https://t.co/Zo5xuWeuGq\"\n",
              "17  \"@AlteregoXI @LuckyHeronSay Do the hotels supp...\n",
              "18  \"\"\"Stricken with both COVID-19 and double pneu...\n",
              "19  \"@USPS @USPSHelp  According to the MIT Technol...\n",
              "20  \"Self-isolation will prove challenging to many...\n",
              "21  \"????Si tu savais comme c?�?est bon, de pouvoi...\n",
              "22  ????Comme c?�?est bon???? de @JeniferOfficiel ...\n",
              "23  \"To help you all get through the #coronavirus ...\n",
              "24                   Get your credit cards ready ????\n",
              "25  This classy #loafers (no socks! ????) worshipp...\n",
              "26                            https://t.co/5184GA5UmZ\n",
              "27                   #findom https://t.co/EBkIahPDVu\"\n",
              "28  \"The @WHO has been explaining how #COVID19 spr...\n",
              "29  Officials warned us at every single WHO #coron...\n",
              "30     Why is the world just now starting to listen?\"\n",
              "31  \"Premier cas de #Covid19 ?? Columbia Universit...\n",
              "32  Perso, je suis en self-isolation from today in...\n",
              "33  \"?�?We are approaching this with maximum trans...\n",
              "34                                      -Matt Hancock\n",
              "35  And yet private briefings on closures, gatheri...\n",
              "36                                           #COVID19\n",
              "37                     #marr https://t.co/MkrzL9rcjc\"\n",
              "38    \"Testing testing testing testing find the virus\n",
              "39  Easy/Fast:CT scans/CBCs if + go to PCR #COVID1...\n",
              "40  No home isolation,80% of transmission inside f...\n",
              "41                                              DANCE\n",
              "42  Mild:from no symptoms to pneumonia but doesn't...\n",
              "43  Break the chain of transmission Don't get hosp...\n",
              "44  COVID19: Local flying in from Spain taken to i...\n",
              "45  \"I know,  I know.   How am I still single??  I...\n",
              "46  \"Vu les dernieres annonces d?�???douard #Phili...\n",
              "47       Allez vous aller voter aux #Municipale2020 ?\n",
              "48                          VOTE ???? ET RETWEET ????\n",
              "49  #COVID???19 #restecheztoi #COVID19 #Espagne #c...\n",
              "50  \"Elderly and disabled are going to suffer!!   ...\n",
              "51  \"Just received an Email from my local SNP that...\n",
              "52  \"???? | President Torra calls Spain?�?s effort...\n",
              "53  Catalan chief urges for complete self-isolatio...\n",
              "54                           https://t.co/MYnccQLQ9G\"\n",
              "55  \"Choosing between preserving Corona and Cohen ...\n",
              "56  \"Old school friend in China in isolation. Says..."
            ]
          },
          "metadata": {
            "tags": []
          },
          "execution_count": 27
        }
      ]
    },
    {
      "cell_type": "code",
      "metadata": {
        "id": "HKTzQW5EzwsJ"
      },
      "source": [
        "\n",
        "\n",
        "sys.stdout=open(\"output.txt\" , \"w\", encoding='ISO-8859-1')\n",
        "\n",
        "corpus = [] # List for storing cleaned data\n",
        "\n",
        "ps = PorterStemmer() #Initializing object for stemming\n",
        "for i in range(len(dataset)): # for each obervation in the dataset\n",
        "   #Removing special characters\n",
        "   text = re.sub('[^a-zA-Z]', ' ', dataset['Tweet'][i]).lower().split()\n",
        "   #Stemming and removing stop words\n",
        "   text = [ps.stem(word) for word in text if not word in set(stopwords.words('english'))]\n",
        "   #Joining all the cleaned words to form a sentence\n",
        "   text = ' '.join(text)\n",
        "   #Adding the cleaned sentence to a list\n",
        "   print(text + \"\\n\")"
      ],
      "execution_count": 28,
      "outputs": []
    },
    {
      "cell_type": "code",
      "metadata": {
        "colab": {
          "base_uri": "https://localhost:8080/"
        },
        "id": "1KsIknzRz0DG",
        "outputId": "37be495e-e94b-4748-a6f0-658d239f1158"
      },
      "source": [
        ""
      ],
      "execution_count": 12,
      "outputs": [
        {
          "output_type": "stream",
          "text": [
            "['\\n', 'rohit kansal princip secretari plan jammu amp kashmir one case union territori ut histori travel saudia arabia report high viral load kept isol confirm await covid http co ahfx ft\\n', 'coronaviru pour lutter contr la propag du covid et sauver de vie un dispositif de confin est mi en place le placement sont interdit sauf dan le ca suivant et uniqu condit tre muni une attest\\n', 'covid franc http co qiicx mk\\n', 'coronaviru quoi sert le confin\\n', 'vid creapil anim juan delcan\\n', 'http co glggicaec\\n', 'apr un rapport alarmist pid miologist san mesur endigu le nouveau coronaviru aurait pu mener une vagu de mort en franc c est cett tude qui pouss emmanuel macron prendr de mesur drastiqu http co krowptdw http co jkqljjp g\\n', 'mexican engin develop isol chamber keep coronaviru bay\\n', 'mexico http co ajsh ktpkh\\n', 'covid march\\n', 'pm\\n', 'confirm case\\n', 'farukolhu isol\\n', 'villivaru quarantin\\n', 'inform\\n', 'http co vi ywgl ac http co zo xuweugq\\n', 'alteregoxi luckyheronsay hotel suppli train medic staff life save equip amp medicin privat hospit\\n', 'stricken covid doubl pneumonia mark frilot critic care isol consent given paralyt drug sedat put ventil perfect health http co glhr qqfuc\\n', 'usp uspshelp accord mit technolog review coronaviru live packag hour step take keep postal employe safe postal worker alreadi becom infect wa amp ny coronaviru usp pro\\n', 'self isol prove challeng mani peopl mental health caution psycholog prof http co ctm sevatw v checkupcbc jon ore\\n', 'si tu savai comm c est bon de pouvoir te revoir de pouvoir te parler de te toucher chanter apr le confin coronaviru\\n', 'comm c est bon de jeniferofficiel de retour sur nrjhitmusiconli http co fjjtae ob\\n', 'help get coronaviru crisi long stay home day give disccount join onlyfan\\n', 'get credit card readi\\n', 'classi loafer sock worship\\n', 'http co ga umz\\n', 'findom http co ebkiahpdvu\\n', 'explain covid spread stress import social distanc isol amp flatten curv week\\n', 'offici warn us everi singl coronaviru press brief sinc late januari\\n', 'world start listen\\n', 'premier ca de covid columbia univers un tudiant infect je attendai je savai que c tait une gross con quenc tre locat au coeur de nyc\\n', 'perso je sui en self isol today shaa allah safe\\n', 'approach maximum transpar\\n', 'matt hancock\\n', 'yet privat brief closur gather emerg law quarantin measur isol\\n', 'covid\\n', 'marr http co mkrzl rcjc\\n', 'test test test test find viru\\n', 'easi fast ct scan cbc go pcr covid test\\n', 'home isol transmiss insid famili\\n', 'danc\\n', 'mild symptom pneumonia need\\n', 'break chain transmiss get hospit overwhelm http co njdti w\\n', 'covid local fli spain taken isol facil http co sz l az\\n', 'know know still singl mysteri whole isol thing help stayathom coronaviru covid staythefhom socialdistanc catsoftwitt caturday funniesttweet catsofinstagram cat comedi laughterpermit funnycat http co cj akk yk\\n', 'vu le dernier annonc douard philipp sur le coronaviru savoir de fermer le tabliss public\\n', 'allez vou aller voter aux municipal\\n', 'vote et retweet\\n', 'covid restecheztoi covid espagn confin\\n', 'elderli disabl go suffer home deliveri sainsburi slot week asda site crash tesco slot day morrison noth day isol killer need solut coronaviru covid coronaoutbreak panicshop http co kkx h gaxj\\n', 'receiv email local snp case self isol volunt help groceri etc set alreadi phone number call govern care snp covid coronaviru selfisolationhelp\\n', 'presid torra call spain effort fight coronaviru insuffici\\n', 'catalan chief urg complet self isol call improv econom measur region presid meet\\n', 'http co mynccqlq g\\n', 'choos preserv corona cohen would touch choic trump clear would like prefer keep contain cours altern noth say social distanc like solitari confin http co atib ptx\\n', 'old school friend china isol say walk dog hardest part household uk dog without strict enforc self isol big task rais huge issu britishvet covid http co eifrjlno n\\n']\n"
          ],
          "name": "stdout"
        }
      ]
    }
  ]
}